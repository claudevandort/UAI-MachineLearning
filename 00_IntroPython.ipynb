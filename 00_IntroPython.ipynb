{
  "nbformat": 4,
  "nbformat_minor": 0,
  "metadata": {
    "colab": {
      "name": "00_IntroPython.ipynb",
      "provenance": [],
      "collapsed_sections": [
        "LMUDJM16c8a1",
        "LGAhTOo9c8a9",
        "DzHLXuCEc8bC",
        "49A-qcRWc8bI",
        "BiM9FXbwc8bM",
        "wF473Uexc8bP",
        "lUEiifIZc8bi"
      ],
      "include_colab_link": true
    },
    "kernelspec": {
      "display_name": "Python 3",
      "language": "python",
      "name": "python3"
    },
    "language_info": {
      "codemirror_mode": {
        "name": "ipython",
        "version": 3
      },
      "file_extension": ".py",
      "mimetype": "text/x-python",
      "name": "python",
      "nbconvert_exporter": "python",
      "pygments_lexer": "ipython3",
      "version": "3.7.4"
    }
  },
  "cells": [
    {
      "cell_type": "markdown",
      "metadata": {
        "id": "view-in-github",
        "colab_type": "text"
      },
      "source": [
        "<a href=\"https://colab.research.google.com/github/claudevandort/UAI-MachineLearning/blob/master/00_IntroPython.ipynb\" target=\"_parent\"><img src=\"https://colab.research.google.com/assets/colab-badge.svg\" alt=\"Open In Colab\"/></a>"
      ]
    },
    {
      "cell_type": "markdown",
      "metadata": {
        "id": "R82G8CCac8aM"
      },
      "source": [
        "### Aprendizaje Automático\n",
        "\n",
        "#### Profesor: Gonzalo Ruz\n",
        "#### Ayudante: Anthony Cho\n",
        "\n",
        "**Tema**: Introducción a Python "
      ]
    },
    {
      "cell_type": "markdown",
      "metadata": {
        "id": "ju81iJIrc8aO"
      },
      "source": [
        "#### Asignación de variables"
      ]
    },
    {
      "cell_type": "code",
      "metadata": {
        "id": "idU3fqH8c8aP"
      },
      "source": [
        "a = 1\n",
        "b = '12'\n",
        "c = 'Hola'"
      ],
      "execution_count": 1,
      "outputs": []
    },
    {
      "cell_type": "code",
      "metadata": {
        "colab": {
          "base_uri": "https://localhost:8080/"
        },
        "id": "-7sW9AAlc8aV",
        "outputId": "15668b88-a38f-492f-a376-5fad455ab151"
      },
      "source": [
        "## Imprimir las variables\n",
        "print(a)\n",
        "print(b)\n",
        "print(c)\n",
        "\n",
        "## Imprimir tipo de dato almacenado en la variable\n",
        "print()\n",
        "print(type(a))\n",
        "print(type(b))\n",
        "print(type(c))"
      ],
      "execution_count": 2,
      "outputs": [
        {
          "output_type": "stream",
          "text": [
            "1\n",
            "12\n",
            "Hola\n",
            "\n",
            "<class 'int'>\n",
            "<class 'str'>\n",
            "<class 'str'>\n"
          ],
          "name": "stdout"
        }
      ]
    },
    {
      "cell_type": "markdown",
      "metadata": {
        "id": "M2Hc7Lo8c8aa"
      },
      "source": [
        "#### Algunas operaciones básicas"
      ]
    },
    {
      "cell_type": "code",
      "metadata": {
        "colab": {
          "base_uri": "https://localhost:8080/"
        },
        "id": "KdpFMFm5c8aa",
        "outputId": "7405a22e-9609-49c0-c240-3b781df820ea"
      },
      "source": [
        "## Suma\n",
        "a = a+10\n",
        "print(a)\n",
        "\n",
        "a += 10\n",
        "print(a)\n",
        "\n",
        "## Multiplicación\n",
        "a = a*10\n",
        "print(a)\n",
        "\n",
        "## División\n",
        "a = a/10\n",
        "print(a)"
      ],
      "execution_count": 3,
      "outputs": [
        {
          "output_type": "stream",
          "text": [
            "11\n",
            "21\n",
            "210\n",
            "21.0\n"
          ],
          "name": "stdout"
        }
      ]
    },
    {
      "cell_type": "markdown",
      "metadata": {
        "id": "RfmuCsC3c8ad"
      },
      "source": [
        "### Listas"
      ]
    },
    {
      "cell_type": "code",
      "metadata": {
        "id": "VUWqcWlVc8ae"
      },
      "source": [
        "# Crear lista\n",
        "eventos = ['dormir', 'comer', 'correr', 'escapar']\n",
        "cualquierCosa = ['Modelo', 'PQC', 1500000]\n",
        "lista = [1,4,2,5,6,7,8,9,0,5,3,2]"
      ],
      "execution_count": 4,
      "outputs": []
    },
    {
      "cell_type": "code",
      "metadata": {
        "colab": {
          "base_uri": "https://localhost:8080/"
        },
        "id": "jPG26saBc8ah",
        "outputId": "ad984d0d-a154-494c-e175-b84156b955a1"
      },
      "source": [
        "# Imprimir una lista\n",
        "print('lista: ', lista)"
      ],
      "execution_count": 5,
      "outputs": [
        {
          "output_type": "stream",
          "text": [
            "lista:  [1, 4, 2, 5, 6, 7, 8, 9, 0, 5, 3, 2]\n"
          ],
          "name": "stdout"
        }
      ]
    },
    {
      "cell_type": "code",
      "metadata": {
        "colab": {
          "base_uri": "https://localhost:8080/"
        },
        "id": "DDlqvwiyc8aj",
        "outputId": "13c327bf-0f5c-4372-9070-115e0ae875f4"
      },
      "source": [
        "# Imprimir las dos listas en forma simple\n",
        "print(eventos, cualquierCosa)"
      ],
      "execution_count": 6,
      "outputs": [
        {
          "output_type": "stream",
          "text": [
            "['dormir', 'comer', 'correr', 'escapar'] ['Modelo', 'PQC', 1500000]\n"
          ],
          "name": "stdout"
        }
      ]
    },
    {
      "cell_type": "code",
      "metadata": {
        "colab": {
          "base_uri": "https://localhost:8080/"
        },
        "id": "blhHe7E4c8ak",
        "outputId": "2afc4bf1-2f4e-44a9-891d-31c44de5c346"
      },
      "source": [
        "# Imprimir las dos listas en un formato personalizado\n",
        "print('Lista 1: {}\\nLista 2: {}'.format(eventos, cualquierCosa))"
      ],
      "execution_count": 7,
      "outputs": [
        {
          "output_type": "stream",
          "text": [
            "Lista 1: ['dormir', 'comer', 'correr', 'escapar']\n",
            "Lista 2: ['Modelo', 'PQC', 1500000]\n"
          ],
          "name": "stdout"
        }
      ]
    },
    {
      "cell_type": "markdown",
      "metadata": {
        "id": "gJTts6mac8am"
      },
      "source": [
        "#### Algunas operaciones con listas"
      ]
    },
    {
      "cell_type": "code",
      "metadata": {
        "colab": {
          "base_uri": "https://localhost:8080/"
        },
        "id": "hVxhP0Wbc8am",
        "outputId": "c10f7662-bf27-4034-e7cd-59f3b4753264"
      },
      "source": [
        "# Hacer una copia de la lista\n",
        "lista2 = lista.copy()\n",
        "print('lista2: ', lista2)"
      ],
      "execution_count": 8,
      "outputs": [
        {
          "output_type": "stream",
          "text": [
            "lista2:  [1, 4, 2, 5, 6, 7, 8, 9, 0, 5, 3, 2]\n"
          ],
          "name": "stdout"
        }
      ]
    },
    {
      "cell_type": "code",
      "metadata": {
        "colab": {
          "base_uri": "https://localhost:8080/"
        },
        "id": "kClVOMGic8ao",
        "outputId": "0a5e9b9f-34f5-46c2-ae6f-e8254de080aa"
      },
      "source": [
        "# Adjuntar al final de la lista un elemento\n",
        "lista2.append(100)\n",
        "print('lista2: ', lista2)"
      ],
      "execution_count": 9,
      "outputs": [
        {
          "output_type": "stream",
          "text": [
            "lista2:  [1, 4, 2, 5, 6, 7, 8, 9, 0, 5, 3, 2, 100]\n"
          ],
          "name": "stdout"
        }
      ]
    },
    {
      "cell_type": "code",
      "metadata": {
        "colab": {
          "base_uri": "https://localhost:8080/"
        },
        "id": "9WuPLI9vc8aq",
        "outputId": "070550e9-0096-45f7-ba8f-feac7d504c69"
      },
      "source": [
        "print('lista: ', lista)\n",
        "print('lista2: ', lista2)"
      ],
      "execution_count": 10,
      "outputs": [
        {
          "output_type": "stream",
          "text": [
            "lista:  [1, 4, 2, 5, 6, 7, 8, 9, 0, 5, 3, 2]\n",
            "lista2:  [1, 4, 2, 5, 6, 7, 8, 9, 0, 5, 3, 2, 100]\n"
          ],
          "name": "stdout"
        }
      ]
    },
    {
      "cell_type": "code",
      "metadata": {
        "colab": {
          "base_uri": "https://localhost:8080/"
        },
        "id": "kI8-YK0Lc8ar",
        "outputId": "4f82176a-b845-41ab-97a2-da6b212fe423"
      },
      "source": [
        "# Adjuntar una lista a otra lista como un elemento\n",
        "lista.append(lista2)\n",
        "print('lista: ', lista)"
      ],
      "execution_count": 11,
      "outputs": [
        {
          "output_type": "stream",
          "text": [
            "lista:  [1, 4, 2, 5, 6, 7, 8, 9, 0, 5, 3, 2, [1, 4, 2, 5, 6, 7, 8, 9, 0, 5, 3, 2, 100]]\n"
          ],
          "name": "stdout"
        }
      ]
    },
    {
      "cell_type": "code",
      "metadata": {
        "colab": {
          "base_uri": "https://localhost:8080/"
        },
        "id": "0IcLxaIkc8as",
        "outputId": "1db90867-aacf-42e7-927b-0c4b29cd33c6"
      },
      "source": [
        "# Extender una lista con los elementos de otra lista\n",
        "lista = [1,4,2,5,6,7,8,9,0,5,3,2]\n",
        "lista2 = [3,523,5,9,6]\n",
        "\n",
        "lista.extend(lista2)\n",
        "print('lista: ', lista)"
      ],
      "execution_count": 12,
      "outputs": [
        {
          "output_type": "stream",
          "text": [
            "lista:  [1, 4, 2, 5, 6, 7, 8, 9, 0, 5, 3, 2, 3, 523, 5, 9, 6]\n"
          ],
          "name": "stdout"
        }
      ]
    },
    {
      "cell_type": "code",
      "metadata": {
        "colab": {
          "base_uri": "https://localhost:8080/"
        },
        "id": "Sw7zZXwpc8at",
        "outputId": "0c3fb4d8-2135-41f1-ce94-d0dab76a734d"
      },
      "source": [
        "# Consultar la posición del primer elemento que coincida con el número 7 en la lista\n",
        "lista.index(7)"
      ],
      "execution_count": 13,
      "outputs": [
        {
          "output_type": "execute_result",
          "data": {
            "text/plain": [
              "5"
            ]
          },
          "metadata": {
            "tags": []
          },
          "execution_count": 13
        }
      ]
    },
    {
      "cell_type": "code",
      "metadata": {
        "colab": {
          "base_uri": "https://localhost:8080/"
        },
        "id": "DW8D90oKc8av",
        "outputId": "82735748-1c2a-4172-d5e7-ecfa393f4dc1"
      },
      "source": [
        "# Contar cuántas repeticiones hay del número 8 en la lista\n",
        "lista.count(8)"
      ],
      "execution_count": 14,
      "outputs": [
        {
          "output_type": "execute_result",
          "data": {
            "text/plain": [
              "1"
            ]
          },
          "metadata": {
            "tags": []
          },
          "execution_count": 14
        }
      ]
    },
    {
      "cell_type": "code",
      "metadata": {
        "colab": {
          "base_uri": "https://localhost:8080/"
        },
        "id": "y5atwpEqc8aw",
        "outputId": "4078f49c-b68a-43bf-f1dd-a8eeb8cb9166"
      },
      "source": [
        "# Insertar el elemento 100 en el índice 3 de la lista\n",
        "lista.insert(3, 100)\n",
        "print(lista)"
      ],
      "execution_count": 15,
      "outputs": [
        {
          "output_type": "stream",
          "text": [
            "[1, 4, 2, 100, 5, 6, 7, 8, 9, 0, 5, 3, 2, 3, 523, 5, 9, 6]\n"
          ],
          "name": "stdout"
        }
      ]
    },
    {
      "cell_type": "code",
      "metadata": {
        "colab": {
          "base_uri": "https://localhost:8080/"
        },
        "id": "dFFyWbbgc8ax",
        "outputId": "cfb8e180-1afb-4667-ff96-a266dc93c01e"
      },
      "source": [
        "# Remover la primera aparición en la lista que coincida con el número 2.\n",
        "lista.remove(2)\n",
        "print(lista)"
      ],
      "execution_count": 16,
      "outputs": [
        {
          "output_type": "stream",
          "text": [
            "[1, 4, 100, 5, 6, 7, 8, 9, 0, 5, 3, 2, 3, 523, 5, 9, 6]\n"
          ],
          "name": "stdout"
        }
      ]
    },
    {
      "cell_type": "code",
      "metadata": {
        "colab": {
          "base_uri": "https://localhost:8080/"
        },
        "id": "kzhpUWLyc8az",
        "outputId": "9c873250-549e-47b3-9d6e-6710673a04be"
      },
      "source": [
        "# Eliminar el último elemento de la lista\n",
        "lista.pop()\n",
        "print(lista)"
      ],
      "execution_count": 17,
      "outputs": [
        {
          "output_type": "stream",
          "text": [
            "[1, 4, 100, 5, 6, 7, 8, 9, 0, 5, 3, 2, 3, 523, 5, 9]\n"
          ],
          "name": "stdout"
        }
      ]
    },
    {
      "cell_type": "code",
      "metadata": {
        "colab": {
          "base_uri": "https://localhost:8080/"
        },
        "id": "Nf852S2ec8a0",
        "outputId": "60bf517c-022e-41b9-b938-6823a09566f4"
      },
      "source": [
        "# Eliminar el elemento localizado en el índice 2 de la lista\n",
        "lista.pop(2)\n",
        "print(lista)"
      ],
      "execution_count": 18,
      "outputs": [
        {
          "output_type": "stream",
          "text": [
            "[1, 4, 5, 6, 7, 8, 9, 0, 5, 3, 2, 3, 523, 5, 9]\n"
          ],
          "name": "stdout"
        }
      ]
    },
    {
      "cell_type": "markdown",
      "metadata": {
        "id": "LMUDJM16c8a1"
      },
      "source": [
        "### Diccionarios"
      ]
    },
    {
      "cell_type": "code",
      "metadata": {
        "colab": {
          "base_uri": "https://localhost:8080/"
        },
        "id": "S-v9T0Uhc8a2",
        "outputId": "c29e6bcf-2829-401c-9636-7e73d2d82137"
      },
      "source": [
        "# Crear un diccionario\n",
        "costos = {'Desayuno': 50, \n",
        "          'Almuerzo': 100,\n",
        "          'Cena': {'Suave': 40, \n",
        "                   'Intermedio': 60, \n",
        "                   'Heavy': 120}\n",
        "          }\n",
        "\n",
        "print(costos)"
      ],
      "execution_count": 19,
      "outputs": [
        {
          "output_type": "stream",
          "text": [
            "{'Desayuno': 50, 'Almuerzo': 100, 'Cena': {'Suave': 40, 'Intermedio': 60, 'Heavy': 120}}\n"
          ],
          "name": "stdout"
        }
      ]
    },
    {
      "cell_type": "code",
      "metadata": {
        "colab": {
          "base_uri": "https://localhost:8080/"
        },
        "id": "yeh6I902c8a3",
        "outputId": "1ca5cae6-031d-4061-ce89-3f8ecc0e3eba"
      },
      "source": [
        "contacto = {}\n",
        "contacto['Nombre'] = 'Anthony'\n",
        "contacto['telefono'] = '+56900000001'\n",
        "contacto['email'] = 'anthony@pmail.com'\n",
        "contacto['Ayudante'] = ['Python', 'Machine Learning']\n",
        "\n",
        "print(contacto)"
      ],
      "execution_count": 20,
      "outputs": [
        {
          "output_type": "stream",
          "text": [
            "{'Nombre': 'Anthony', 'telefono': '+56900000001', 'email': 'anthony@pmail.com', 'Ayudante': ['Python', 'Machine Learning']}\n"
          ],
          "name": "stdout"
        }
      ]
    },
    {
      "cell_type": "code",
      "metadata": {
        "colab": {
          "base_uri": "https://localhost:8080/"
        },
        "id": "tasVa3bDc8a4",
        "outputId": "6a8a1b12-2de7-4628-caa9-1ceb1075b409"
      },
      "source": [
        "# Acceso a un elemento del diccionario\n",
        "costos['Desayuno']"
      ],
      "execution_count": 21,
      "outputs": [
        {
          "output_type": "execute_result",
          "data": {
            "text/plain": [
              "50"
            ]
          },
          "metadata": {
            "tags": []
          },
          "execution_count": 21
        }
      ]
    },
    {
      "cell_type": "code",
      "metadata": {
        "colab": {
          "base_uri": "https://localhost:8080/"
        },
        "id": "Nxk7HpBac8a5",
        "outputId": "9a9affb8-a072-4c2e-ee89-e41b8ea9656a"
      },
      "source": [
        "costos['Cena']"
      ],
      "execution_count": 22,
      "outputs": [
        {
          "output_type": "execute_result",
          "data": {
            "text/plain": [
              "{'Heavy': 120, 'Intermedio': 60, 'Suave': 40}"
            ]
          },
          "metadata": {
            "tags": []
          },
          "execution_count": 22
        }
      ]
    },
    {
      "cell_type": "code",
      "metadata": {
        "colab": {
          "base_uri": "https://localhost:8080/"
        },
        "id": "gmG9rKfsc8a6",
        "outputId": "e075abcb-f5e6-4dc1-a46f-5e37c0ccfe27"
      },
      "source": [
        "costos['Cena']['Suave']"
      ],
      "execution_count": 23,
      "outputs": [
        {
          "output_type": "execute_result",
          "data": {
            "text/plain": [
              "40"
            ]
          },
          "metadata": {
            "tags": []
          },
          "execution_count": 23
        }
      ]
    },
    {
      "cell_type": "markdown",
      "metadata": {
        "id": "LGAhTOo9c8a9"
      },
      "source": [
        "### Condicional IF, IF-ELSE, IF-ELIF-...ELIF-ELSE"
      ]
    },
    {
      "cell_type": "code",
      "metadata": {
        "colab": {
          "base_uri": "https://localhost:8080/"
        },
        "id": "sLf7IW4jc8a9",
        "outputId": "87748bed-7bb5-4c6c-d493-5d38b007034f"
      },
      "source": [
        "print('Valor de a: {}'.format(a))"
      ],
      "execution_count": 24,
      "outputs": [
        {
          "output_type": "stream",
          "text": [
            "Valor de a: 21.0\n"
          ],
          "name": "stdout"
        }
      ]
    },
    {
      "cell_type": "code",
      "metadata": {
        "colab": {
          "base_uri": "https://localhost:8080/"
        },
        "id": "u8PQ7FQcc8a-",
        "outputId": "ce33c337-7490-4f0e-edcb-13ce550524ff"
      },
      "source": [
        "## Uso de un solo IF\n",
        "if a <30:\n",
        "    print(\"El valor de a es menor que 30\")"
      ],
      "execution_count": 25,
      "outputs": [
        {
          "output_type": "stream",
          "text": [
            "El valor de a es menor que 30\n"
          ],
          "name": "stdout"
        }
      ]
    },
    {
      "cell_type": "code",
      "metadata": {
        "colab": {
          "base_uri": "https://localhost:8080/"
        },
        "id": "P3ynZJyac8a_",
        "outputId": "25170e2c-1bf2-4873-9b24-30beef3faeb0"
      },
      "source": [
        "## Uso del IF-ELSE\n",
        "if a < 10:\n",
        "    print(\"El valor de a es menor que 10\")\n",
        "else:\n",
        "    print(\"El valor de a es mayor o igual que 10\")"
      ],
      "execution_count": 26,
      "outputs": [
        {
          "output_type": "stream",
          "text": [
            "El valor de a es mayor o igual que 10\n"
          ],
          "name": "stdout"
        }
      ]
    },
    {
      "cell_type": "code",
      "metadata": {
        "colab": {
          "base_uri": "https://localhost:8080/"
        },
        "id": "SHV12u2nc8bA",
        "outputId": "46257e2d-845b-401c-bfdf-b072d46a6c5d"
      },
      "source": [
        "## Uso del IF-ELSE anidados\n",
        "if a < 10:\n",
        "    print(\"El valor de a es menor que 10\")\n",
        "else:\n",
        "    if a < 20:\n",
        "        print(\"El valor de a es menor que 20\")\n",
        "    else:\n",
        "        print(\"El valor de a es mayor o igual que 20\")\n"
      ],
      "execution_count": 27,
      "outputs": [
        {
          "output_type": "stream",
          "text": [
            "El valor de a es mayor o igual que 20\n"
          ],
          "name": "stdout"
        }
      ]
    },
    {
      "cell_type": "code",
      "metadata": {
        "colab": {
          "base_uri": "https://localhost:8080/"
        },
        "id": "ZLQJPP4dc8bB",
        "outputId": "33877ca6-e77a-49e8-9b79-fd525a769d5a"
      },
      "source": [
        "## Uso del IF-ELIF-ELSE\n",
        "if a < 10:\n",
        "    print(\"El valor de a es menor que 10\")\n",
        "elif a < 20:\n",
        "    print(\"El valor de a es menor que 20\")\n",
        "else:\n",
        "    print(\"El valor de a es mayor o igual que 20\")\n"
      ],
      "execution_count": 28,
      "outputs": [
        {
          "output_type": "stream",
          "text": [
            "El valor de a es mayor o igual que 20\n"
          ],
          "name": "stdout"
        }
      ]
    },
    {
      "cell_type": "markdown",
      "metadata": {
        "id": "DzHLXuCEc8bC"
      },
      "source": [
        "### Bucles"
      ]
    },
    {
      "cell_type": "code",
      "metadata": {
        "id": "nF8W9EG6c8bD"
      },
      "source": [
        "## Calcular el tamaño de la lista\n",
        "N = len(eventos)"
      ],
      "execution_count": 29,
      "outputs": []
    },
    {
      "cell_type": "code",
      "metadata": {
        "colab": {
          "base_uri": "https://localhost:8080/"
        },
        "id": "m4ukZpHfc8bE",
        "outputId": "a8dc193a-91bd-4d67-b26b-2aa75ba69bed"
      },
      "source": [
        "## uso del for por elemento\n",
        "for elemento in eventos:\n",
        "    print(elemento)"
      ],
      "execution_count": 30,
      "outputs": [
        {
          "output_type": "stream",
          "text": [
            "dormir\n",
            "comer\n",
            "correr\n",
            "escapar\n"
          ],
          "name": "stdout"
        }
      ]
    },
    {
      "cell_type": "code",
      "metadata": {
        "colab": {
          "base_uri": "https://localhost:8080/"
        },
        "id": "jiS8yzJCc8bF",
        "outputId": "ffdb7a30-f2cd-458d-8607-2d935a5c4bdc"
      },
      "source": [
        "## Uso del for por índice\n",
        "for i in range(N):\n",
        "    print(eventos[i])"
      ],
      "execution_count": 31,
      "outputs": [
        {
          "output_type": "stream",
          "text": [
            "dormir\n",
            "comer\n",
            "correr\n",
            "escapar\n"
          ],
          "name": "stdout"
        }
      ]
    },
    {
      "cell_type": "code",
      "metadata": {
        "colab": {
          "base_uri": "https://localhost:8080/"
        },
        "id": "yAERLoOgc8bG",
        "outputId": "c88de41d-862f-415e-959c-918f359c8c24"
      },
      "source": [
        "## Uso del while\n",
        "i = 0\n",
        "while i<N:\n",
        "    print(eventos[i])\n",
        "    \n",
        "    ## Aumentar el índice una unidad\n",
        "    i = i+1"
      ],
      "execution_count": 32,
      "outputs": [
        {
          "output_type": "stream",
          "text": [
            "dormir\n",
            "comer\n",
            "correr\n",
            "escapar\n"
          ],
          "name": "stdout"
        }
      ]
    },
    {
      "cell_type": "markdown",
      "metadata": {
        "id": "49A-qcRWc8bI"
      },
      "source": [
        "### Crear una función personalizada"
      ]
    },
    {
      "cell_type": "code",
      "metadata": {
        "id": "RfWoF1wHc8bI"
      },
      "source": [
        "def palabraQueEmpiezaPor(lista, letra):\n",
        "    \"\"\"\n",
        "    DESCRIPTION:\n",
        "        Determina cuántas palabras de la lista empiezan por una\n",
        "        letra en particular e indicar cuáles son esas palabras\n",
        "    \n",
        "    INPUT:\n",
        "        @param: lista de palabras\n",
        "        @type: list\n",
        "            \n",
        "        @param: letra a verificar en el inicio de cada palabra de la lista\n",
        "        @type: str\n",
        "            \n",
        "    OUTPUT:\n",
        "        @param: contar\n",
        "        @type: int\n",
        "        \n",
        "        @param: palabras\n",
        "        @type: list\n",
        "    \"\"\"\n",
        "    \n",
        "    ## Declaración de variables iniciales para almacenamiento\n",
        "    palabras = []\n",
        "    contar = 0\n",
        "    \n",
        "    ## recorrer la lista si existen palabras que cumple con la letra al inicio\n",
        "    for word in lista:\n",
        "        if word[0] == letra:\n",
        "            contar += 1\n",
        "            palabras.append(word)\n",
        "            \n",
        "    if contar != 0:\n",
        "        print('Hay %d palabras que empiezan por %s'%(contar, letra))\n",
        "            \n",
        "    ## retornar los resultados.\n",
        "    return contar, palabras\n"
      ],
      "execution_count": 33,
      "outputs": []
    },
    {
      "cell_type": "code",
      "metadata": {
        "colab": {
          "base_uri": "https://localhost:8080/"
        },
        "id": "p0onEGekc8bJ",
        "outputId": "d3f3e45d-7086-48fb-f34e-dbfc3c195246"
      },
      "source": [
        "## ejecución de la función\n",
        "c, lista = palabraQueEmpiezaPor(eventos, 'c')"
      ],
      "execution_count": 34,
      "outputs": [
        {
          "output_type": "stream",
          "text": [
            "Hay 2 palabras que empiezan por c\n"
          ],
          "name": "stdout"
        }
      ]
    },
    {
      "cell_type": "code",
      "metadata": {
        "colab": {
          "base_uri": "https://localhost:8080/"
        },
        "id": "6LkMP22Ic8bK",
        "outputId": "726d956e-032e-40cb-96fe-da3a372a1dbc"
      },
      "source": [
        "print('Número de parabras encontradas: %d'%(c))\n",
        "print('Las palabras encontradas son: {}'.format(lista))"
      ],
      "execution_count": 35,
      "outputs": [
        {
          "output_type": "stream",
          "text": [
            "Número de parabras encontradas: 2\n",
            "Las palabras encontradas son: ['comer', 'correr']\n"
          ],
          "name": "stdout"
        }
      ]
    },
    {
      "cell_type": "markdown",
      "metadata": {
        "id": "BiM9FXbwc8bM"
      },
      "source": [
        "### Cargar una librería o función específica de una librería"
      ]
    },
    {
      "cell_type": "code",
      "metadata": {
        "id": "1ny2FG_uc8bN"
      },
      "source": [
        "## Cargar una librería completa y renombrarla \n",
        "import numpy as np\n",
        "import pandas as pd\n",
        "\n",
        "%matplotlib inline\n",
        "\n",
        "## Cargar una función específica de una librería\n",
        "from pandas import read_csv"
      ],
      "execution_count": 36,
      "outputs": []
    },
    {
      "cell_type": "markdown",
      "metadata": {
        "id": "wF473Uexc8bP"
      },
      "source": [
        "#### Operaciones con numpy"
      ]
    },
    {
      "cell_type": "code",
      "metadata": {
        "colab": {
          "base_uri": "https://localhost:8080/"
        },
        "id": "3oMwgzArc8bP",
        "outputId": "02cbb8c6-9613-4b6e-9b09-c21882e80771"
      },
      "source": [
        "## Definir listas\n",
        "A = [[1,2,3], [0,1,2]]\n",
        "b = [2, 3, 1]\n",
        "\n",
        "## Conversión de listas a arreglos de numpy\n",
        "A = np.array(A)\n",
        "b = np.array(b)\n",
        "\n",
        "print('Matriz A:\\n{}'.format(A))\n",
        "print('\\nVector b: {}'.format(b))"
      ],
      "execution_count": 37,
      "outputs": [
        {
          "output_type": "stream",
          "text": [
            "Matriz A:\n",
            "[[1 2 3]\n",
            " [0 1 2]]\n",
            "\n",
            "Vector b: [2 3 1]\n"
          ],
          "name": "stdout"
        }
      ]
    },
    {
      "cell_type": "code",
      "metadata": {
        "colab": {
          "base_uri": "https://localhost:8080/"
        },
        "id": "DBi7fVzYc8bQ",
        "outputId": "c71bba17-4a55-4bda-c5e1-f6f01d42b0b5"
      },
      "source": [
        "## Modo directo de declaración de un vector\n",
        "c = np.array([1,2])\n",
        "print('Vector c: {}\\n'.format(c))\n",
        "\n",
        "## Modo directo de declaración de un vector\n",
        "D = np.array([ [3,2], [5,6] ])\n",
        "print('Matriz D:\\n{}'.format(D))"
      ],
      "execution_count": 38,
      "outputs": [
        {
          "output_type": "stream",
          "text": [
            "Vector c: [1 2]\n",
            "\n",
            "Matriz D:\n",
            "[[3 2]\n",
            " [5 6]]\n"
          ],
          "name": "stdout"
        }
      ]
    },
    {
      "cell_type": "code",
      "metadata": {
        "colab": {
          "base_uri": "https://localhost:8080/"
        },
        "id": "kcauQUrKc8bR",
        "outputId": "2ecb8476-ee07-4d7c-d66e-537a2ed54f39"
      },
      "source": [
        "# forma de la matriz\n",
        "print('Forma de la matriz A: {}'.format(A.shape))\n",
        "print('Forma de la matriz b: {}'.format(b.shape))\n",
        "print('Forma de la matriz c: {}'.format(c.shape))"
      ],
      "execution_count": 39,
      "outputs": [
        {
          "output_type": "stream",
          "text": [
            "Forma de la matriz A: (2, 3)\n",
            "Forma de la matriz b: (3,)\n",
            "Forma de la matriz c: (2,)\n"
          ],
          "name": "stdout"
        }
      ]
    },
    {
      "cell_type": "code",
      "metadata": {
        "colab": {
          "base_uri": "https://localhost:8080/"
        },
        "id": "YXjyLZl4c8bR",
        "outputId": "f6e68d8b-2433-4de8-f776-165b4a73a21a"
      },
      "source": [
        "# Número de fila de una matriz\n",
        "print('Número de fila de la matriz: {}'.format( len(A) ))\n",
        "print('Número de fila de la matriz: {}'.format( A.shape[0] ))"
      ],
      "execution_count": 40,
      "outputs": [
        {
          "output_type": "stream",
          "text": [
            "Número de fila de la matriz: 2\n",
            "Número de fila de la matriz: 2\n"
          ],
          "name": "stdout"
        }
      ]
    },
    {
      "cell_type": "code",
      "metadata": {
        "colab": {
          "base_uri": "https://localhost:8080/"
        },
        "id": "5aKIzq0yc8bS",
        "outputId": "57701302-f4f1-4b4b-e3c6-8356a3b0a139"
      },
      "source": [
        "# Número de elemento de una matriz\n",
        "print('Total elemento de la matriz: {}'.format(A.size))"
      ],
      "execution_count": 41,
      "outputs": [
        {
          "output_type": "stream",
          "text": [
            "Total elemento de la matriz: 6\n"
          ],
          "name": "stdout"
        }
      ]
    },
    {
      "cell_type": "code",
      "metadata": {
        "colab": {
          "base_uri": "https://localhost:8080/"
        },
        "id": "_wE9iUNGc8bT",
        "outputId": "31d67896-891e-48be-a3ce-69bedb692284"
      },
      "source": [
        "# Longitud de un vector\n",
        "print('Longitud del vector: {}'.format( len(b) ))"
      ],
      "execution_count": 42,
      "outputs": [
        {
          "output_type": "stream",
          "text": [
            "Longitud del vector: 3\n"
          ],
          "name": "stdout"
        }
      ]
    },
    {
      "cell_type": "code",
      "metadata": {
        "colab": {
          "base_uri": "https://localhost:8080/"
        },
        "id": "MBdyKlRKc8bU",
        "outputId": "b56859ee-66e7-4369-9ed9-4e49831b5c63"
      },
      "source": [
        "# Operaciones punto a punto (numpy)\n",
        "\n",
        "print('A+b')\n",
        "print(A+b)\n",
        "print('A*b')\n",
        "print(A*b)\n",
        "print('A+2')\n",
        "print(A+2)\n",
        "print('A+b')\n",
        "print(3*A)\n"
      ],
      "execution_count": 43,
      "outputs": [
        {
          "output_type": "stream",
          "text": [
            "A+b\n",
            "[[3 5 4]\n",
            " [2 4 3]]\n",
            "A*b\n",
            "[[2 6 3]\n",
            " [0 3 2]]\n",
            "A+2\n",
            "[[3 4 5]\n",
            " [2 3 4]]\n",
            "A+b\n",
            "[[3 6 9]\n",
            " [0 3 6]]\n"
          ],
          "name": "stdout"
        }
      ]
    },
    {
      "cell_type": "code",
      "metadata": {
        "colab": {
          "base_uri": "https://localhost:8080/"
        },
        "id": "xQGmyRXLc8bV",
        "outputId": "18cc94d3-41e6-433c-b63d-a3e1e56e9e29"
      },
      "source": [
        "# producto de la matriz A con el vector b\n",
        "A.dot(b) "
      ],
      "execution_count": 44,
      "outputs": [
        {
          "output_type": "execute_result",
          "data": {
            "text/plain": [
              "array([11,  5])"
            ]
          },
          "metadata": {
            "tags": []
          },
          "execution_count": 44
        }
      ]
    },
    {
      "cell_type": "code",
      "metadata": {
        "colab": {
          "base_uri": "https://localhost:8080/"
        },
        "id": "H_5r4dCac8bV",
        "outputId": "ce511b48-4cd4-4bf4-d21d-6243eda1f87b"
      },
      "source": [
        "# producto del vector c con la matriz A\n",
        "c.dot(A)"
      ],
      "execution_count": 45,
      "outputs": [
        {
          "output_type": "execute_result",
          "data": {
            "text/plain": [
              "array([1, 4, 7])"
            ]
          },
          "metadata": {
            "tags": []
          },
          "execution_count": 45
        }
      ]
    },
    {
      "cell_type": "code",
      "metadata": {
        "colab": {
          "base_uri": "https://localhost:8080/"
        },
        "id": "fFEf_ajYc8bW",
        "outputId": "b7da3da2-e12a-4aa4-837d-f45d7283b309"
      },
      "source": [
        "# Buscar el máximo de la matrix\n",
        "A.max()"
      ],
      "execution_count": 46,
      "outputs": [
        {
          "output_type": "execute_result",
          "data": {
            "text/plain": [
              "3"
            ]
          },
          "metadata": {
            "tags": []
          },
          "execution_count": 46
        }
      ]
    },
    {
      "cell_type": "code",
      "metadata": {
        "colab": {
          "base_uri": "https://localhost:8080/"
        },
        "id": "nxc7eyhCc8bX",
        "outputId": "41d4805e-ac40-4c15-f9ad-3682b6463477"
      },
      "source": [
        "# Buscar el máximo por columna\n",
        "A.max(axis=0)"
      ],
      "execution_count": 47,
      "outputs": [
        {
          "output_type": "execute_result",
          "data": {
            "text/plain": [
              "array([1, 2, 3])"
            ]
          },
          "metadata": {
            "tags": []
          },
          "execution_count": 47
        }
      ]
    },
    {
      "cell_type": "code",
      "metadata": {
        "colab": {
          "base_uri": "https://localhost:8080/"
        },
        "id": "UuU05dGzc8bY",
        "outputId": "d69bd24f-af36-4348-cce4-36ed28cb496b"
      },
      "source": [
        "# Buscar el máximo por fila\n",
        "A.max(axis=1)"
      ],
      "execution_count": 48,
      "outputs": [
        {
          "output_type": "execute_result",
          "data": {
            "text/plain": [
              "array([3, 2])"
            ]
          },
          "metadata": {
            "tags": []
          },
          "execution_count": 48
        }
      ]
    },
    {
      "cell_type": "code",
      "metadata": {
        "colab": {
          "base_uri": "https://localhost:8080/"
        },
        "id": "aZ1Rcjilc8bZ",
        "outputId": "6ca01cab-5d84-48c9-d171-73fe7a15b9b7"
      },
      "source": [
        "# Convertir la matriz es un vector\n",
        "A.ravel()"
      ],
      "execution_count": 49,
      "outputs": [
        {
          "output_type": "execute_result",
          "data": {
            "text/plain": [
              "array([1, 2, 3, 0, 1, 2])"
            ]
          },
          "metadata": {
            "tags": []
          },
          "execution_count": 49
        }
      ]
    },
    {
      "cell_type": "code",
      "metadata": {
        "colab": {
          "base_uri": "https://localhost:8080/"
        },
        "id": "2p5aUHNhc8bZ",
        "outputId": "d11d3cf4-24fb-4c24-f958-e99fe95b4993"
      },
      "source": [
        "# Redimensionar una matriz\n",
        "A.reshape((3, 2))"
      ],
      "execution_count": 50,
      "outputs": [
        {
          "output_type": "execute_result",
          "data": {
            "text/plain": [
              "array([[1, 2],\n",
              "       [3, 0],\n",
              "       [1, 2]])"
            ]
          },
          "metadata": {
            "tags": []
          },
          "execution_count": 50
        }
      ]
    },
    {
      "cell_type": "markdown",
      "metadata": {
        "id": "Nprzwpd7c8bb"
      },
      "source": [
        "### Operaciones con Pandas"
      ]
    },
    {
      "cell_type": "code",
      "metadata": {
        "id": "bTBCgAvkc8bb"
      },
      "source": [
        "## Lectura de archivo CSV\n",
        "data = pd.read_csv('https://raw.githubusercontent.com/claudevandort/UAI-MachineLearning/master/ramen-ratings.csv')"
      ],
      "execution_count": 51,
      "outputs": []
    },
    {
      "cell_type": "code",
      "metadata": {
        "colab": {
          "base_uri": "https://localhost:8080/",
          "height": 297
        },
        "id": "xA-cLD9qc8bc",
        "outputId": "57da03fb-2cf7-464b-a378-2479e61ee0a2"
      },
      "source": [
        "# Descripción de los datos (estadísticos)\n",
        "data.describe() # muestran solo los datos numéricos"
      ],
      "execution_count": 52,
      "outputs": [
        {
          "output_type": "execute_result",
          "data": {
            "text/html": [
              "<div>\n",
              "<style scoped>\n",
              "    .dataframe tbody tr th:only-of-type {\n",
              "        vertical-align: middle;\n",
              "    }\n",
              "\n",
              "    .dataframe tbody tr th {\n",
              "        vertical-align: top;\n",
              "    }\n",
              "\n",
              "    .dataframe thead th {\n",
              "        text-align: right;\n",
              "    }\n",
              "</style>\n",
              "<table border=\"1\" class=\"dataframe\">\n",
              "  <thead>\n",
              "    <tr style=\"text-align: right;\">\n",
              "      <th></th>\n",
              "      <th>Review #</th>\n",
              "    </tr>\n",
              "  </thead>\n",
              "  <tbody>\n",
              "    <tr>\n",
              "      <th>count</th>\n",
              "      <td>2580.000000</td>\n",
              "    </tr>\n",
              "    <tr>\n",
              "      <th>mean</th>\n",
              "      <td>1290.500000</td>\n",
              "    </tr>\n",
              "    <tr>\n",
              "      <th>std</th>\n",
              "      <td>744.926171</td>\n",
              "    </tr>\n",
              "    <tr>\n",
              "      <th>min</th>\n",
              "      <td>1.000000</td>\n",
              "    </tr>\n",
              "    <tr>\n",
              "      <th>25%</th>\n",
              "      <td>645.750000</td>\n",
              "    </tr>\n",
              "    <tr>\n",
              "      <th>50%</th>\n",
              "      <td>1290.500000</td>\n",
              "    </tr>\n",
              "    <tr>\n",
              "      <th>75%</th>\n",
              "      <td>1935.250000</td>\n",
              "    </tr>\n",
              "    <tr>\n",
              "      <th>max</th>\n",
              "      <td>2580.000000</td>\n",
              "    </tr>\n",
              "  </tbody>\n",
              "</table>\n",
              "</div>"
            ],
            "text/plain": [
              "          Review #\n",
              "count  2580.000000\n",
              "mean   1290.500000\n",
              "std     744.926171\n",
              "min       1.000000\n",
              "25%     645.750000\n",
              "50%    1290.500000\n",
              "75%    1935.250000\n",
              "max    2580.000000"
            ]
          },
          "metadata": {
            "tags": []
          },
          "execution_count": 52
        }
      ]
    },
    {
      "cell_type": "code",
      "metadata": {
        "colab": {
          "base_uri": "https://localhost:8080/",
          "height": 390
        },
        "id": "i7E0boz8c8bc",
        "outputId": "488d78c5-f3f6-41fd-f2ae-d94f7fd1e75a"
      },
      "source": [
        "data.describe(include='all') # muestran todas las columnas"
      ],
      "execution_count": 53,
      "outputs": [
        {
          "output_type": "execute_result",
          "data": {
            "text/html": [
              "<div>\n",
              "<style scoped>\n",
              "    .dataframe tbody tr th:only-of-type {\n",
              "        vertical-align: middle;\n",
              "    }\n",
              "\n",
              "    .dataframe tbody tr th {\n",
              "        vertical-align: top;\n",
              "    }\n",
              "\n",
              "    .dataframe thead th {\n",
              "        text-align: right;\n",
              "    }\n",
              "</style>\n",
              "<table border=\"1\" class=\"dataframe\">\n",
              "  <thead>\n",
              "    <tr style=\"text-align: right;\">\n",
              "      <th></th>\n",
              "      <th>Review #</th>\n",
              "      <th>Brand</th>\n",
              "      <th>Variety</th>\n",
              "      <th>Style</th>\n",
              "      <th>Country</th>\n",
              "      <th>Stars</th>\n",
              "      <th>Top Ten</th>\n",
              "    </tr>\n",
              "  </thead>\n",
              "  <tbody>\n",
              "    <tr>\n",
              "      <th>count</th>\n",
              "      <td>2580.000000</td>\n",
              "      <td>2580</td>\n",
              "      <td>2580</td>\n",
              "      <td>2578</td>\n",
              "      <td>2580</td>\n",
              "      <td>2580</td>\n",
              "      <td>41</td>\n",
              "    </tr>\n",
              "    <tr>\n",
              "      <th>unique</th>\n",
              "      <td>NaN</td>\n",
              "      <td>355</td>\n",
              "      <td>2413</td>\n",
              "      <td>7</td>\n",
              "      <td>38</td>\n",
              "      <td>51</td>\n",
              "      <td>38</td>\n",
              "    </tr>\n",
              "    <tr>\n",
              "      <th>top</th>\n",
              "      <td>NaN</td>\n",
              "      <td>Nissin</td>\n",
              "      <td>Beef</td>\n",
              "      <td>Pack</td>\n",
              "      <td>Japan</td>\n",
              "      <td>4</td>\n",
              "      <td>\\n</td>\n",
              "    </tr>\n",
              "    <tr>\n",
              "      <th>freq</th>\n",
              "      <td>NaN</td>\n",
              "      <td>381</td>\n",
              "      <td>7</td>\n",
              "      <td>1531</td>\n",
              "      <td>352</td>\n",
              "      <td>384</td>\n",
              "      <td>4</td>\n",
              "    </tr>\n",
              "    <tr>\n",
              "      <th>mean</th>\n",
              "      <td>1290.500000</td>\n",
              "      <td>NaN</td>\n",
              "      <td>NaN</td>\n",
              "      <td>NaN</td>\n",
              "      <td>NaN</td>\n",
              "      <td>NaN</td>\n",
              "      <td>NaN</td>\n",
              "    </tr>\n",
              "    <tr>\n",
              "      <th>std</th>\n",
              "      <td>744.926171</td>\n",
              "      <td>NaN</td>\n",
              "      <td>NaN</td>\n",
              "      <td>NaN</td>\n",
              "      <td>NaN</td>\n",
              "      <td>NaN</td>\n",
              "      <td>NaN</td>\n",
              "    </tr>\n",
              "    <tr>\n",
              "      <th>min</th>\n",
              "      <td>1.000000</td>\n",
              "      <td>NaN</td>\n",
              "      <td>NaN</td>\n",
              "      <td>NaN</td>\n",
              "      <td>NaN</td>\n",
              "      <td>NaN</td>\n",
              "      <td>NaN</td>\n",
              "    </tr>\n",
              "    <tr>\n",
              "      <th>25%</th>\n",
              "      <td>645.750000</td>\n",
              "      <td>NaN</td>\n",
              "      <td>NaN</td>\n",
              "      <td>NaN</td>\n",
              "      <td>NaN</td>\n",
              "      <td>NaN</td>\n",
              "      <td>NaN</td>\n",
              "    </tr>\n",
              "    <tr>\n",
              "      <th>50%</th>\n",
              "      <td>1290.500000</td>\n",
              "      <td>NaN</td>\n",
              "      <td>NaN</td>\n",
              "      <td>NaN</td>\n",
              "      <td>NaN</td>\n",
              "      <td>NaN</td>\n",
              "      <td>NaN</td>\n",
              "    </tr>\n",
              "    <tr>\n",
              "      <th>75%</th>\n",
              "      <td>1935.250000</td>\n",
              "      <td>NaN</td>\n",
              "      <td>NaN</td>\n",
              "      <td>NaN</td>\n",
              "      <td>NaN</td>\n",
              "      <td>NaN</td>\n",
              "      <td>NaN</td>\n",
              "    </tr>\n",
              "    <tr>\n",
              "      <th>max</th>\n",
              "      <td>2580.000000</td>\n",
              "      <td>NaN</td>\n",
              "      <td>NaN</td>\n",
              "      <td>NaN</td>\n",
              "      <td>NaN</td>\n",
              "      <td>NaN</td>\n",
              "      <td>NaN</td>\n",
              "    </tr>\n",
              "  </tbody>\n",
              "</table>\n",
              "</div>"
            ],
            "text/plain": [
              "           Review #   Brand Variety Style Country Stars Top Ten\n",
              "count   2580.000000    2580    2580  2578    2580  2580      41\n",
              "unique          NaN     355    2413     7      38    51      38\n",
              "top             NaN  Nissin    Beef  Pack   Japan     4      \\n\n",
              "freq            NaN     381       7  1531     352   384       4\n",
              "mean    1290.500000     NaN     NaN   NaN     NaN   NaN     NaN\n",
              "std      744.926171     NaN     NaN   NaN     NaN   NaN     NaN\n",
              "min        1.000000     NaN     NaN   NaN     NaN   NaN     NaN\n",
              "25%      645.750000     NaN     NaN   NaN     NaN   NaN     NaN\n",
              "50%     1290.500000     NaN     NaN   NaN     NaN   NaN     NaN\n",
              "75%     1935.250000     NaN     NaN   NaN     NaN   NaN     NaN\n",
              "max     2580.000000     NaN     NaN   NaN     NaN   NaN     NaN"
            ]
          },
          "metadata": {
            "tags": []
          },
          "execution_count": 53
        }
      ]
    },
    {
      "cell_type": "code",
      "metadata": {
        "colab": {
          "base_uri": "https://localhost:8080/"
        },
        "id": "a57AqAvqc8bd",
        "outputId": "010a1fa2-c58a-4156-ae45-4c9afe26b1d9"
      },
      "source": [
        "# Mostrar información del tipo de datos en el dataframe\n",
        "data.info()"
      ],
      "execution_count": 54,
      "outputs": [
        {
          "output_type": "stream",
          "text": [
            "<class 'pandas.core.frame.DataFrame'>\n",
            "RangeIndex: 2580 entries, 0 to 2579\n",
            "Data columns (total 7 columns):\n",
            " #   Column    Non-Null Count  Dtype \n",
            "---  ------    --------------  ----- \n",
            " 0   Review #  2580 non-null   int64 \n",
            " 1   Brand     2580 non-null   object\n",
            " 2   Variety   2580 non-null   object\n",
            " 3   Style     2578 non-null   object\n",
            " 4   Country   2580 non-null   object\n",
            " 5   Stars     2580 non-null   object\n",
            " 6   Top Ten   41 non-null     object\n",
            "dtypes: int64(1), object(6)\n",
            "memory usage: 141.2+ KB\n"
          ],
          "name": "stdout"
        }
      ]
    },
    {
      "cell_type": "code",
      "metadata": {
        "colab": {
          "base_uri": "https://localhost:8080/",
          "height": 173
        },
        "id": "MKsTEgNbc8be",
        "outputId": "40096f0f-f888-4e9e-9360-07b6b05beea3"
      },
      "source": [
        "# Mostrar las primeras 4 filas\n",
        "data.head(4)"
      ],
      "execution_count": 55,
      "outputs": [
        {
          "output_type": "execute_result",
          "data": {
            "text/html": [
              "<div>\n",
              "<style scoped>\n",
              "    .dataframe tbody tr th:only-of-type {\n",
              "        vertical-align: middle;\n",
              "    }\n",
              "\n",
              "    .dataframe tbody tr th {\n",
              "        vertical-align: top;\n",
              "    }\n",
              "\n",
              "    .dataframe thead th {\n",
              "        text-align: right;\n",
              "    }\n",
              "</style>\n",
              "<table border=\"1\" class=\"dataframe\">\n",
              "  <thead>\n",
              "    <tr style=\"text-align: right;\">\n",
              "      <th></th>\n",
              "      <th>Review #</th>\n",
              "      <th>Brand</th>\n",
              "      <th>Variety</th>\n",
              "      <th>Style</th>\n",
              "      <th>Country</th>\n",
              "      <th>Stars</th>\n",
              "      <th>Top Ten</th>\n",
              "    </tr>\n",
              "  </thead>\n",
              "  <tbody>\n",
              "    <tr>\n",
              "      <th>0</th>\n",
              "      <td>2580</td>\n",
              "      <td>New Touch</td>\n",
              "      <td>T's Restaurant Tantanmen</td>\n",
              "      <td>Cup</td>\n",
              "      <td>Japan</td>\n",
              "      <td>3.75</td>\n",
              "      <td>NaN</td>\n",
              "    </tr>\n",
              "    <tr>\n",
              "      <th>1</th>\n",
              "      <td>2579</td>\n",
              "      <td>Just Way</td>\n",
              "      <td>Noodles Spicy Hot Sesame Spicy Hot Sesame Guan...</td>\n",
              "      <td>Pack</td>\n",
              "      <td>Taiwan</td>\n",
              "      <td>1</td>\n",
              "      <td>NaN</td>\n",
              "    </tr>\n",
              "    <tr>\n",
              "      <th>2</th>\n",
              "      <td>2578</td>\n",
              "      <td>Nissin</td>\n",
              "      <td>Cup Noodles Chicken Vegetable</td>\n",
              "      <td>Cup</td>\n",
              "      <td>USA</td>\n",
              "      <td>2.25</td>\n",
              "      <td>NaN</td>\n",
              "    </tr>\n",
              "    <tr>\n",
              "      <th>3</th>\n",
              "      <td>2577</td>\n",
              "      <td>Wei Lih</td>\n",
              "      <td>GGE Ramen Snack Tomato Flavor</td>\n",
              "      <td>Pack</td>\n",
              "      <td>Taiwan</td>\n",
              "      <td>2.75</td>\n",
              "      <td>NaN</td>\n",
              "    </tr>\n",
              "  </tbody>\n",
              "</table>\n",
              "</div>"
            ],
            "text/plain": [
              "   Review #      Brand  ... Stars Top Ten\n",
              "0      2580  New Touch  ...  3.75     NaN\n",
              "1      2579   Just Way  ...     1     NaN\n",
              "2      2578     Nissin  ...  2.25     NaN\n",
              "3      2577    Wei Lih  ...  2.75     NaN\n",
              "\n",
              "[4 rows x 7 columns]"
            ]
          },
          "metadata": {
            "tags": []
          },
          "execution_count": 55
        }
      ]
    },
    {
      "cell_type": "code",
      "metadata": {
        "colab": {
          "base_uri": "https://localhost:8080/",
          "height": 173
        },
        "id": "9yrbRDWIc8be",
        "outputId": "8b0242ea-4ed7-435d-ae10-f0aa1bd0824b"
      },
      "source": [
        "# Mostrar las últimas 4 filas\n",
        "data.tail(4)"
      ],
      "execution_count": 56,
      "outputs": [
        {
          "output_type": "execute_result",
          "data": {
            "text/html": [
              "<div>\n",
              "<style scoped>\n",
              "    .dataframe tbody tr th:only-of-type {\n",
              "        vertical-align: middle;\n",
              "    }\n",
              "\n",
              "    .dataframe tbody tr th {\n",
              "        vertical-align: top;\n",
              "    }\n",
              "\n",
              "    .dataframe thead th {\n",
              "        text-align: right;\n",
              "    }\n",
              "</style>\n",
              "<table border=\"1\" class=\"dataframe\">\n",
              "  <thead>\n",
              "    <tr style=\"text-align: right;\">\n",
              "      <th></th>\n",
              "      <th>Review #</th>\n",
              "      <th>Brand</th>\n",
              "      <th>Variety</th>\n",
              "      <th>Style</th>\n",
              "      <th>Country</th>\n",
              "      <th>Stars</th>\n",
              "      <th>Top Ten</th>\n",
              "    </tr>\n",
              "  </thead>\n",
              "  <tbody>\n",
              "    <tr>\n",
              "      <th>2576</th>\n",
              "      <td>4</td>\n",
              "      <td>Wai Wai</td>\n",
              "      <td>Oriental Style Instant Noodles</td>\n",
              "      <td>Pack</td>\n",
              "      <td>Thailand</td>\n",
              "      <td>1</td>\n",
              "      <td>NaN</td>\n",
              "    </tr>\n",
              "    <tr>\n",
              "      <th>2577</th>\n",
              "      <td>3</td>\n",
              "      <td>Wai Wai</td>\n",
              "      <td>Tom Yum Shrimp</td>\n",
              "      <td>Pack</td>\n",
              "      <td>Thailand</td>\n",
              "      <td>2</td>\n",
              "      <td>NaN</td>\n",
              "    </tr>\n",
              "    <tr>\n",
              "      <th>2578</th>\n",
              "      <td>2</td>\n",
              "      <td>Wai Wai</td>\n",
              "      <td>Tom Yum Chili Flavor</td>\n",
              "      <td>Pack</td>\n",
              "      <td>Thailand</td>\n",
              "      <td>2</td>\n",
              "      <td>NaN</td>\n",
              "    </tr>\n",
              "    <tr>\n",
              "      <th>2579</th>\n",
              "      <td>1</td>\n",
              "      <td>Westbrae</td>\n",
              "      <td>Miso Ramen</td>\n",
              "      <td>Pack</td>\n",
              "      <td>USA</td>\n",
              "      <td>0.5</td>\n",
              "      <td>NaN</td>\n",
              "    </tr>\n",
              "  </tbody>\n",
              "</table>\n",
              "</div>"
            ],
            "text/plain": [
              "      Review #     Brand  ... Stars Top Ten\n",
              "2576         4   Wai Wai  ...     1     NaN\n",
              "2577         3   Wai Wai  ...     2     NaN\n",
              "2578         2   Wai Wai  ...     2     NaN\n",
              "2579         1  Westbrae  ...   0.5     NaN\n",
              "\n",
              "[4 rows x 7 columns]"
            ]
          },
          "metadata": {
            "tags": []
          },
          "execution_count": 56
        }
      ]
    },
    {
      "cell_type": "code",
      "metadata": {
        "colab": {
          "base_uri": "https://localhost:8080/"
        },
        "id": "kBSB1dd2c8bf",
        "outputId": "84a30df8-009f-4678-a8af-4d5ef7177980"
      },
      "source": [
        "# Mostrar los nombres de las columnas\n",
        "data.columns"
      ],
      "execution_count": 57,
      "outputs": [
        {
          "output_type": "execute_result",
          "data": {
            "text/plain": [
              "Index(['Review #', 'Brand', 'Variety', 'Style', 'Country', 'Stars', 'Top Ten'], dtype='object')"
            ]
          },
          "metadata": {
            "tags": []
          },
          "execution_count": 57
        }
      ]
    },
    {
      "cell_type": "code",
      "metadata": {
        "id": "-HEuhsuTc8bg"
      },
      "source": [
        "# conversión de una columna numérica cargada en string\n",
        "data['Stars'] = pd.to_numeric(data['Stars'], errors='coerce')"
      ],
      "execution_count": 58,
      "outputs": []
    },
    {
      "cell_type": "code",
      "metadata": {
        "id": "GYuCqsSPc8bg"
      },
      "source": [
        "# Eliminar una columna\n",
        "data.drop(columns = ['Review #'], inplace=True)"
      ],
      "execution_count": 59,
      "outputs": []
    },
    {
      "cell_type": "markdown",
      "metadata": {
        "id": "lUEiifIZc8bi"
      },
      "source": [
        "#### Algunos gráficos con pandas"
      ]
    },
    {
      "cell_type": "code",
      "metadata": {
        "colab": {
          "base_uri": "https://localhost:8080/",
          "height": 282
        },
        "id": "5WW6sniQc8bi",
        "outputId": "c168ac12-edd8-479e-c5f5-610bdb38b89c"
      },
      "source": [
        "# Plot línea simple\n",
        "data.Stars.plot()"
      ],
      "execution_count": 60,
      "outputs": [
        {
          "output_type": "execute_result",
          "data": {
            "text/plain": [
              "<matplotlib.axes._subplots.AxesSubplot at 0x7f89caa27590>"
            ]
          },
          "metadata": {
            "tags": []
          },
          "execution_count": 60
        },
        {
          "output_type": "display_data",
          "data": {
            "image/png": "[encoded data removed]",
            "text/plain": [
              "<Figure size 432x288 with 1 Axes>"
            ]
          },
          "metadata": {
            "tags": [],
            "needs_background": "light"
          }
        }
      ]
    },
    {
      "cell_type": "code",
      "metadata": {
        "colab": {
          "base_uri": "https://localhost:8080/",
          "height": 282
        },
        "id": "t5DP-l73c8bi",
        "outputId": "8a1f10b8-f202-4d0a-e851-3977f461fe72"
      },
      "source": [
        "# Plot línea simple pasando el tamaño a mostrar\n",
        "data.Stars.plot(figsize=(10, 4))"
      ],
      "execution_count": 61,
      "outputs": [
        {
          "output_type": "execute_result",
          "data": {
            "text/plain": [
              "<matplotlib.axes._subplots.AxesSubplot at 0x7f89ca9764d0>"
            ]
          },
          "metadata": {
            "tags": []
          },
          "execution_count": 61
        },
        {
          "output_type": "display_data",
          "data": {
            "image/png": "[encoded data removed]",
            "text/plain": [
              "<Figure size 720x288 with 1 Axes>"
            ]
          },
          "metadata": {
            "tags": [],
            "needs_background": "light"
          }
        }
      ]
    },
    {
      "cell_type": "code",
      "metadata": {
        "colab": {
          "base_uri": "https://localhost:8080/",
          "height": 298
        },
        "id": "v5gMla3uc8bj",
        "outputId": "36290933-65c9-4ecc-bdd4-c5c9ca5ec102"
      },
      "source": [
        "# Plot línea simple pasando el tamaño a mostrar con anexo del título\n",
        "data.Stars.plot(figsize=(10, 4), title='Ramen-Ratings')"
      ],
      "execution_count": 62,
      "outputs": [
        {
          "output_type": "execute_result",
          "data": {
            "text/plain": [
              "<matplotlib.axes._subplots.AxesSubplot at 0x7f89ca506190>"
            ]
          },
          "metadata": {
            "tags": []
          },
          "execution_count": 62
        },
        {
          "output_type": "display_data",
          "data": {
            "image/png": "[encoded data removed]",
            "text/plain": [
              "<Figure size 720x288 with 1 Axes>"
            ]
          },
          "metadata": {
            "tags": [],
            "needs_background": "light"
          }
        }
      ]
    },
    {
      "cell_type": "code",
      "metadata": {
        "colab": {
          "base_uri": "https://localhost:8080/",
          "height": 298
        },
        "id": "pawI6CJTc8bk",
        "outputId": "8baabef4-f3d2-432c-9b5f-3980317c98b3"
      },
      "source": [
        "# Plot del histograma con partición por defecto\n",
        "data.Stars.plot(figsize=(10, 4), title='Ramen-Ratings (Histograma)', kind='hist')"
      ],
      "execution_count": 63,
      "outputs": [
        {
          "output_type": "execute_result",
          "data": {
            "text/plain": [
              "<matplotlib.axes._subplots.AxesSubplot at 0x7f89ca420810>"
            ]
          },
          "metadata": {
            "tags": []
          },
          "execution_count": 63
        },
        {
          "output_type": "display_data",
          "data": {
            "image/png": "[encoded data removed]",
            "text/plain": [
              "<Figure size 720x288 with 1 Axes>"
            ]
          },
          "metadata": {
            "tags": [],
            "needs_background": "light"
          }
        }
      ]
    },
    {
      "cell_type": "code",
      "metadata": {
        "colab": {
          "base_uri": "https://localhost:8080/",
          "height": 298
        },
        "id": "gifslCMtc8bk",
        "outputId": "d76c4c6f-e3b8-401b-8e48-be01472eb3fa"
      },
      "source": [
        "# Plot del histograma con una partición definida\n",
        "data.Stars.plot(figsize=(10, 4), title='Ramen-Ratings (Histograma)', kind='hist', bins=100)"
      ],
      "execution_count": 64,
      "outputs": [
        {
          "output_type": "execute_result",
          "data": {
            "text/plain": [
              "<matplotlib.axes._subplots.AxesSubplot at 0x7f89ca3a7810>"
            ]
          },
          "metadata": {
            "tags": []
          },
          "execution_count": 64
        },
        {
          "output_type": "display_data",
          "data": {
            "image/png": "[encoded data removed]",
            "text/plain": [
              "<Figure size 720x288 with 1 Axes>"
            ]
          },
          "metadata": {
            "tags": [],
            "needs_background": "light"
          }
        }
      ]
    },
    {
      "cell_type": "code",
      "metadata": {
        "colab": {
          "base_uri": "https://localhost:8080/",
          "height": 298
        },
        "id": "w3hsgILOc8bl",
        "outputId": "4242202b-c3e9-4bd5-eda1-b0226a1b3e0d"
      },
      "source": [
        "# Plot de la función de densidad asociada a la data suministrada.\n",
        "data.Stars.plot(figsize=(10, 4), title='Ramen-Ratings (densidad de la distribución)', kind='kde')"
      ],
      "execution_count": 65,
      "outputs": [
        {
          "output_type": "execute_result",
          "data": {
            "text/plain": [
              "<matplotlib.axes._subplots.AxesSubplot at 0x7f89ca214050>"
            ]
          },
          "metadata": {
            "tags": []
          },
          "execution_count": 65
        },
        {
          "output_type": "display_data",
          "data": {
            "image/png": "[encoded data removed]",
            "text/plain": [
              "<Figure size 720x288 with 1 Axes>"
            ]
          },
          "metadata": {
            "tags": [],
            "needs_background": "light"
          }
        }
      ]
    }
  ]
}