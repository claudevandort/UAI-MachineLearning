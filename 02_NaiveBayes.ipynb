{
  "nbformat": 4,
  "nbformat_minor": 0,
  "metadata": {
    "anaconda-cloud": {},
    "celltoolbar": "Slideshow",
    "colab": {
      "name": "02_NaiveBayes.ipynb",
      "provenance": [],
      "collapsed_sections": [],
      "include_colab_link": true
    },
    "kernelspec": {
      "display_name": "Python 3",
      "language": "python",
      "name": "python3"
    },
    "language_info": {
      "codemirror_mode": {
        "name": "ipython",
        "version": 3
      },
      "file_extension": ".py",
      "mimetype": "text/x-python",
      "name": "python",
      "nbconvert_exporter": "python",
      "pygments_lexer": "ipython3",
      "version": "3.7.4"
    },
    "latex_metadata": {
      "author": "Joaquin Vanschoren",
      "title": "Introduction"
    }
  },
  "cells": [
    {
      "cell_type": "markdown",
      "metadata": {
        "id": "view-in-github",
        "colab_type": "text"
      },
      "source": [
        "<a href=\"https://colab.research.google.com/github/claudevandort/UAI-MachineLearning/blob/master/02_NaiveBayes.ipynb\" target=\"_parent\"><img src=\"https://colab.research.google.com/assets/colab-badge.svg\" alt=\"Open In Colab\"/></a>"
      ]
    },
    {
      "cell_type": "markdown",
      "metadata": {
        "id": "9xZJ_-mef54i"
      },
      "source": [
        "### Aprendizaje Automático\n",
        "\n",
        "#### Profesor: Gonzalo Ruz\n",
        "#### Ayudante: Anthony Cho\n",
        "\n",
        "**Tema**: Clasificador naive Bayes"
      ]
    },
    {
      "cell_type": "markdown",
      "metadata": {
        "id": "qS4qJ0uCf54j"
      },
      "source": [
        "####Abrir archivo que contiene el dataset CallCenterData"
      ]
    },
    {
      "cell_type": "code",
      "metadata": {
        "id": "0F6iE1KWf9Nb"
      },
      "source": [
        "import pandas as pd\n",
        "data = pd.read_csv('https://raw.githubusercontent.com/claudevandort/UAI-MachineLearning/master/CallCenterData.csv')"
      ],
      "execution_count": 1,
      "outputs": []
    },
    {
      "cell_type": "markdown",
      "metadata": {
        "id": "v2liCuq9hAVB"
      },
      "source": [
        "####Resumen con estadística descriptiva"
      ]
    },
    {
      "cell_type": "code",
      "metadata": {
        "id": "4k4xoU56hHdJ",
        "colab": {
          "base_uri": "https://localhost:8080/",
          "height": 390
        },
        "outputId": "f9ff7be2-0b3e-4feb-dee6-8f0817ecdae7"
      },
      "source": [
        "data.describe(include='all')"
      ],
      "execution_count": 2,
      "outputs": [
        {
          "output_type": "execute_result",
          "data": {
            "text/html": [
              "<div>\n",
              "<style scoped>\n",
              "    .dataframe tbody tr th:only-of-type {\n",
              "        vertical-align: middle;\n",
              "    }\n",
              "\n",
              "    .dataframe tbody tr th {\n",
              "        vertical-align: top;\n",
              "    }\n",
              "\n",
              "    .dataframe thead th {\n",
              "        text-align: right;\n",
              "    }\n",
              "</style>\n",
              "<table border=\"1\" class=\"dataframe\">\n",
              "  <thead>\n",
              "    <tr style=\"text-align: right;\">\n",
              "      <th></th>\n",
              "      <th>ID</th>\n",
              "      <th>Edad</th>\n",
              "      <th>Sexo</th>\n",
              "      <th>NivelEducacion</th>\n",
              "      <th>EstadoCivil</th>\n",
              "      <th>NivelSocEco</th>\n",
              "      <th>HorasLogeadas</th>\n",
              "      <th>HorasHabladas</th>\n",
              "      <th>ContactosEfectivosPromedio</th>\n",
              "      <th>RegistrosTerminados</th>\n",
              "      <th>ProdMayorUbral</th>\n",
              "    </tr>\n",
              "  </thead>\n",
              "  <tbody>\n",
              "    <tr>\n",
              "      <th>count</th>\n",
              "      <td>660.000000</td>\n",
              "      <td>660.000000</td>\n",
              "      <td>660</td>\n",
              "      <td>660</td>\n",
              "      <td>660</td>\n",
              "      <td>660</td>\n",
              "      <td>660.000000</td>\n",
              "      <td>660.000000</td>\n",
              "      <td>660.000000</td>\n",
              "      <td>660.000000</td>\n",
              "      <td>660</td>\n",
              "    </tr>\n",
              "    <tr>\n",
              "      <th>unique</th>\n",
              "      <td>NaN</td>\n",
              "      <td>NaN</td>\n",
              "      <td>2</td>\n",
              "      <td>4</td>\n",
              "      <td>2</td>\n",
              "      <td>5</td>\n",
              "      <td>NaN</td>\n",
              "      <td>NaN</td>\n",
              "      <td>NaN</td>\n",
              "      <td>NaN</td>\n",
              "      <td>2</td>\n",
              "    </tr>\n",
              "    <tr>\n",
              "      <th>top</th>\n",
              "      <td>NaN</td>\n",
              "      <td>NaN</td>\n",
              "      <td>f</td>\n",
              "      <td>em</td>\n",
              "      <td>s</td>\n",
              "      <td>c3c4</td>\n",
              "      <td>NaN</td>\n",
              "      <td>NaN</td>\n",
              "      <td>NaN</td>\n",
              "      <td>NaN</td>\n",
              "      <td>no</td>\n",
              "    </tr>\n",
              "    <tr>\n",
              "      <th>freq</th>\n",
              "      <td>NaN</td>\n",
              "      <td>NaN</td>\n",
              "      <td>340</td>\n",
              "      <td>345</td>\n",
              "      <td>489</td>\n",
              "      <td>386</td>\n",
              "      <td>NaN</td>\n",
              "      <td>NaN</td>\n",
              "      <td>NaN</td>\n",
              "      <td>NaN</td>\n",
              "      <td>351</td>\n",
              "    </tr>\n",
              "    <tr>\n",
              "      <th>mean</th>\n",
              "      <td>330.500000</td>\n",
              "      <td>32.034848</td>\n",
              "      <td>NaN</td>\n",
              "      <td>NaN</td>\n",
              "      <td>NaN</td>\n",
              "      <td>NaN</td>\n",
              "      <td>117.025260</td>\n",
              "      <td>41.113746</td>\n",
              "      <td>192.477960</td>\n",
              "      <td>467.773235</td>\n",
              "      <td>NaN</td>\n",
              "    </tr>\n",
              "    <tr>\n",
              "      <th>std</th>\n",
              "      <td>190.669872</td>\n",
              "      <td>8.970209</td>\n",
              "      <td>NaN</td>\n",
              "      <td>NaN</td>\n",
              "      <td>NaN</td>\n",
              "      <td>NaN</td>\n",
              "      <td>53.348341</td>\n",
              "      <td>25.310637</td>\n",
              "      <td>146.711340</td>\n",
              "      <td>312.863798</td>\n",
              "      <td>NaN</td>\n",
              "    </tr>\n",
              "    <tr>\n",
              "      <th>min</th>\n",
              "      <td>1.000000</td>\n",
              "      <td>19.000000</td>\n",
              "      <td>NaN</td>\n",
              "      <td>NaN</td>\n",
              "      <td>NaN</td>\n",
              "      <td>NaN</td>\n",
              "      <td>0.170000</td>\n",
              "      <td>0.013333</td>\n",
              "      <td>0.000000</td>\n",
              "      <td>0.000000</td>\n",
              "      <td>NaN</td>\n",
              "    </tr>\n",
              "    <tr>\n",
              "      <th>25%</th>\n",
              "      <td>165.750000</td>\n",
              "      <td>26.000000</td>\n",
              "      <td>NaN</td>\n",
              "      <td>NaN</td>\n",
              "      <td>NaN</td>\n",
              "      <td>NaN</td>\n",
              "      <td>79.197125</td>\n",
              "      <td>21.767312</td>\n",
              "      <td>84.625000</td>\n",
              "      <td>231.107143</td>\n",
              "      <td>NaN</td>\n",
              "    </tr>\n",
              "    <tr>\n",
              "      <th>50%</th>\n",
              "      <td>330.500000</td>\n",
              "      <td>29.500000</td>\n",
              "      <td>NaN</td>\n",
              "      <td>NaN</td>\n",
              "      <td>NaN</td>\n",
              "      <td>NaN</td>\n",
              "      <td>122.679417</td>\n",
              "      <td>37.665000</td>\n",
              "      <td>181.000000</td>\n",
              "      <td>440.500000</td>\n",
              "      <td>NaN</td>\n",
              "    </tr>\n",
              "    <tr>\n",
              "      <th>75%</th>\n",
              "      <td>495.250000</td>\n",
              "      <td>36.000000</td>\n",
              "      <td>NaN</td>\n",
              "      <td>NaN</td>\n",
              "      <td>NaN</td>\n",
              "      <td>NaN</td>\n",
              "      <td>160.650250</td>\n",
              "      <td>57.709000</td>\n",
              "      <td>270.558333</td>\n",
              "      <td>645.812500</td>\n",
              "      <td>NaN</td>\n",
              "    </tr>\n",
              "    <tr>\n",
              "      <th>max</th>\n",
              "      <td>660.000000</td>\n",
              "      <td>65.000000</td>\n",
              "      <td>NaN</td>\n",
              "      <td>NaN</td>\n",
              "      <td>NaN</td>\n",
              "      <td>NaN</td>\n",
              "      <td>258.400000</td>\n",
              "      <td>122.182500</td>\n",
              "      <td>1216.000000</td>\n",
              "      <td>1890.250000</td>\n",
              "      <td>NaN</td>\n",
              "    </tr>\n",
              "  </tbody>\n",
              "</table>\n",
              "</div>"
            ],
            "text/plain": [
              "                ID        Edad  ... RegistrosTerminados ProdMayorUbral\n",
              "count   660.000000  660.000000  ...          660.000000            660\n",
              "unique         NaN         NaN  ...                 NaN              2\n",
              "top            NaN         NaN  ...                 NaN             no\n",
              "freq           NaN         NaN  ...                 NaN            351\n",
              "mean    330.500000   32.034848  ...          467.773235            NaN\n",
              "std     190.669872    8.970209  ...          312.863798            NaN\n",
              "min       1.000000   19.000000  ...            0.000000            NaN\n",
              "25%     165.750000   26.000000  ...          231.107143            NaN\n",
              "50%     330.500000   29.500000  ...          440.500000            NaN\n",
              "75%     495.250000   36.000000  ...          645.812500            NaN\n",
              "max     660.000000   65.000000  ...         1890.250000            NaN\n",
              "\n",
              "[11 rows x 11 columns]"
            ]
          },
          "metadata": {
            "tags": []
          },
          "execution_count": 2
        }
      ]
    },
    {
      "cell_type": "markdown",
      "metadata": {
        "id": "QidMPhP9iOl7"
      },
      "source": [
        "####Revisemos la forma de tabla"
      ]
    },
    {
      "cell_type": "code",
      "metadata": {
        "id": "6EntpJAii-x9",
        "colab": {
          "base_uri": "https://localhost:8080/"
        },
        "outputId": "4f878dfe-a3e7-4f42-d1fa-4538c0d4dadd"
      },
      "source": [
        "data.shape"
      ],
      "execution_count": 3,
      "outputs": [
        {
          "output_type": "execute_result",
          "data": {
            "text/plain": [
              "(660, 11)"
            ]
          },
          "metadata": {
            "tags": []
          },
          "execution_count": 3
        }
      ]
    },
    {
      "cell_type": "markdown",
      "metadata": {
        "id": "6Cn4ITwz_4IO"
      },
      "source": [
        "####Convertir atributos categóricos a numércios"
      ]
    },
    {
      "cell_type": "code",
      "metadata": {
        "id": "-2Asvio7AMw0"
      },
      "source": [
        "import numpy as np\n",
        "data[\"Sexo\"]=np.where(data[\"Sexo\"]==\"m\",0,1)\n",
        "\n",
        "data[\"NivelEducacion\"]=np.where(data[\"NivelEducacion\"]==\"sec\",0,\n",
        "                                np.where(data[\"NivelEducacion\"]==\"em\",1,\n",
        "                                         np.where(data[\"NivelEducacion\"]==\"ts\",2,3)\n",
        "                                          )\n",
        "                                 )\n",
        "\n",
        "data[\"EstadoCivil\"]=np.where(data[\"EstadoCivil\"]==\"s\",0,1)\n",
        "\n",
        "data[\"NivelSocEco\"]=np.where(data[\"NivelSocEco\"]==\"fue\",0,\n",
        "                                np.where(data[\"NivelSocEco\"]==\"e\",1,\n",
        "                                         np.where(data[\"NivelSocEco\"]==\"c3c4\",2,\n",
        "                                                  np.where(data[\"NivelSocEco\"]==\"c2\",3,4)\n",
        "                                                  \n",
        "                                                  )\n",
        "                                          )\n",
        "                                 )"
      ],
      "execution_count": 4,
      "outputs": []
    },
    {
      "cell_type": "markdown",
      "metadata": {
        "id": "m6uZiq7zjbCv"
      },
      "source": [
        "####Generar la partición entrenamiento-prueba (70% - 30%)"
      ]
    },
    {
      "cell_type": "code",
      "metadata": {
        "id": "p5xBuYN7j8TH",
        "colab": {
          "base_uri": "https://localhost:8080/"
        },
        "outputId": "ce08218a-cd9e-436b-846d-8358c36ca047"
      },
      "source": [
        "from sklearn.model_selection import train_test_split\n",
        "X_train, X_test, y_train, y_test = train_test_split(\n",
        "    data.iloc[:,0:10],data['ProdMayorUbral'],\n",
        "    test_size=0.3, random_state=0)\n",
        "print(\"X_train shape: {}\".format(X_train.shape))\n",
        "print(\"y_train shape: {}\".format(y_train.shape))\n",
        "print(\"X_test shape: {}\".format(X_test.shape))\n",
        "print(\"y_test shape: {}\".format(y_test.shape))"
      ],
      "execution_count": 5,
      "outputs": [
        {
          "output_type": "stream",
          "text": [
            "X_train shape: (462, 10)\n",
            "y_train shape: (462,)\n",
            "X_test shape: (198, 10)\n",
            "y_test shape: (198,)\n"
          ],
          "name": "stdout"
        }
      ]
    },
    {
      "cell_type": "markdown",
      "metadata": {
        "id": "ta4Jct9_mKUB"
      },
      "source": [
        "####Entrenar un clasificador NB con  dataset CallCenterData usando sólo variables socio-demograficas y luego evaluar en el conjunto de prueba para generar la matriz de confusion y calcular el accuracy (tasa de clasificaciones correctas)"
      ]
    },
    {
      "cell_type": "code",
      "metadata": {
        "id": "9hkKY0lKm2Oe",
        "colab": {
          "base_uri": "https://localhost:8080/"
        },
        "outputId": "0d3bedcd-a9be-4b38-a940-1c699d13dc23"
      },
      "source": [
        "from sklearn.naive_bayes import GaussianNB\n",
        "from sklearn.metrics import confusion_matrix\n",
        "from sklearn.preprocessing import LabelEncoder\n",
        "\n",
        "#selecionar solo variables socio-demográficas\n",
        "Xtrain=X_train[['Edad','Sexo','NivelEducacion','EstadoCivil','NivelSocEco']]\n",
        "Xtest=X_test[['Edad','Sexo','NivelEducacion','EstadoCivil','NivelSocEco']]\n",
        "\n",
        "#codificar la salida\n",
        "label_encoder = LabelEncoder()\n",
        "aux=y_train[0]\n",
        "y_train=label_encoder.fit_transform(y_train)\n",
        "y_test=label_encoder.fit_transform(y_test)\n",
        "print(\"Etiqueta {} codificada como {}\".format(aux,y_train[0]))\n",
        "\n",
        "#entrenar el modelo\n",
        "model1 = GaussianNB()\n",
        "model1.fit(Xtrain, y_train)\n",
        "\n",
        "#realizar la predicción\n",
        "predicted = model1.predict(Xtest)\n",
        "\n",
        "#matriz de confusión\n",
        "print(confusion_matrix(y_test, predicted))\n",
        "\n",
        "#Accuracy\n",
        "print(\"Score: {:.2f}\".format(model1.score(Xtest, y_test) ))"
      ],
      "execution_count": 6,
      "outputs": [
        {
          "output_type": "stream",
          "text": [
            "Etiqueta si codificada como 1\n",
            "[[76 27]\n",
            " [61 34]]\n",
            "Score: 0.56\n"
          ],
          "name": "stdout"
        }
      ]
    },
    {
      "cell_type": "markdown",
      "metadata": {
        "id": "QqpgsTUCJRMx"
      },
      "source": [
        "####Veamos como nos va si usamos sólo variables operacionales"
      ]
    },
    {
      "cell_type": "code",
      "metadata": {
        "id": "1b4BPk9qJc2x",
        "colab": {
          "base_uri": "https://localhost:8080/"
        },
        "outputId": "b211fa4c-9c45-4b09-c353-be132717d271"
      },
      "source": [
        "#selecionar solo variables operacionales\n",
        "Xtrain=X_train[['HorasLogeadas','HorasHabladas','ContactosEfectivosPromedio','RegistrosTerminados']]\n",
        "Xtest=X_test[['HorasLogeadas','HorasHabladas','ContactosEfectivosPromedio','RegistrosTerminados']]\n",
        "\n",
        "\n",
        "#entrenar el modelo\n",
        "model2 = GaussianNB()\n",
        "model2.fit(Xtrain, y_train)\n",
        "\n",
        "#realizar la predicción\n",
        "predicted = model2.predict(Xtest)\n",
        "\n",
        "#matriz de confusión\n",
        "print(confusion_matrix(y_test, predicted))\n",
        "\n",
        "#Accuracy\n",
        "print(\"Score: {:.2f}\".format(model2.score(Xtest, y_test) ))"
      ],
      "execution_count": 7,
      "outputs": [
        {
          "output_type": "stream",
          "text": [
            "[[89 14]\n",
            " [15 80]]\n",
            "Score: 0.85\n"
          ],
          "name": "stdout"
        }
      ]
    },
    {
      "cell_type": "markdown",
      "metadata": {
        "id": "urPqG7plKMZM"
      },
      "source": [
        "####Y qué pasa si usamos todas las variables?"
      ]
    },
    {
      "cell_type": "code",
      "metadata": {
        "id": "ScETIUQFKSUo",
        "colab": {
          "base_uri": "https://localhost:8080/"
        },
        "outputId": "3a64a134-b699-4f45-9c1c-05eb64847c67"
      },
      "source": [
        "#Usamos todas las variables menos el ID\n",
        "Xtrain=X_train.drop(columns ='ID',axis=1)\n",
        "Xtest=X_test.drop(columns = 'ID',axis=1)\n",
        "\n",
        "\n",
        "#entrenar el modelo\n",
        "model3 = GaussianNB()\n",
        "model3.fit(Xtrain, y_train)\n",
        "\n",
        "#realizar la predicción\n",
        "predicted = model3.predict(Xtest)\n",
        "\n",
        "#matriz de confusión\n",
        "print(confusion_matrix(y_test, predicted))\n",
        "\n",
        "#Accuracy\n",
        "print(\"Score: {:.2f}\".format(model3.score(Xtest, y_test) ))"
      ],
      "execution_count": 8,
      "outputs": [
        {
          "output_type": "stream",
          "text": [
            "[[87 16]\n",
            " [15 80]]\n",
            "Score: 0.84\n"
          ],
          "name": "stdout"
        }
      ]
    },
    {
      "cell_type": "markdown",
      "metadata": {
        "id": "C0Ef-g-WOxl9"
      },
      "source": [
        "#Qué pasa si uno tiene una variable categórica **nominal**?\n",
        "* En ese caso se requiere hacer la codificación one-hot (binaria)\n",
        "* Veamos a modo de ejemplo con la variable EstadoCivil"
      ]
    },
    {
      "cell_type": "code",
      "metadata": {
        "id": "5T2RbKX9PaYA",
        "colab": {
          "base_uri": "https://localhost:8080/",
          "height": 359
        },
        "outputId": "a8a5b808-4bac-4c92-9ba2-7bf813041176"
      },
      "source": [
        "from sklearn.preprocessing import LabelBinarizer\n",
        "\n",
        "#carguemos los datos originales nuevamente\n",
        "data = pd.read_csv('https://raw.githubusercontent.com/claudevandort/UAI-MachineLearning/master/CallCenterData.csv')\n",
        "\n",
        "lb_style = LabelBinarizer()\n",
        "lb_results = lb_style.fit_transform(data[\"NivelEducacion\"])                               \n",
        "NuevasVariables=pd.DataFrame(lb_results, columns=lb_style.classes_)\n",
        "NuevasVariables.head(10)"
      ],
      "execution_count": 9,
      "outputs": [
        {
          "output_type": "execute_result",
          "data": {
            "text/html": [
              "<div>\n",
              "<style scoped>\n",
              "    .dataframe tbody tr th:only-of-type {\n",
              "        vertical-align: middle;\n",
              "    }\n",
              "\n",
              "    .dataframe tbody tr th {\n",
              "        vertical-align: top;\n",
              "    }\n",
              "\n",
              "    .dataframe thead th {\n",
              "        text-align: right;\n",
              "    }\n",
              "</style>\n",
              "<table border=\"1\" class=\"dataframe\">\n",
              "  <thead>\n",
              "    <tr style=\"text-align: right;\">\n",
              "      <th></th>\n",
              "      <th>em</th>\n",
              "      <th>sec</th>\n",
              "      <th>ts</th>\n",
              "      <th>un</th>\n",
              "    </tr>\n",
              "  </thead>\n",
              "  <tbody>\n",
              "    <tr>\n",
              "      <th>0</th>\n",
              "      <td>0</td>\n",
              "      <td>0</td>\n",
              "      <td>0</td>\n",
              "      <td>1</td>\n",
              "    </tr>\n",
              "    <tr>\n",
              "      <th>1</th>\n",
              "      <td>1</td>\n",
              "      <td>0</td>\n",
              "      <td>0</td>\n",
              "      <td>0</td>\n",
              "    </tr>\n",
              "    <tr>\n",
              "      <th>2</th>\n",
              "      <td>1</td>\n",
              "      <td>0</td>\n",
              "      <td>0</td>\n",
              "      <td>0</td>\n",
              "    </tr>\n",
              "    <tr>\n",
              "      <th>3</th>\n",
              "      <td>1</td>\n",
              "      <td>0</td>\n",
              "      <td>0</td>\n",
              "      <td>0</td>\n",
              "    </tr>\n",
              "    <tr>\n",
              "      <th>4</th>\n",
              "      <td>0</td>\n",
              "      <td>0</td>\n",
              "      <td>0</td>\n",
              "      <td>1</td>\n",
              "    </tr>\n",
              "    <tr>\n",
              "      <th>5</th>\n",
              "      <td>1</td>\n",
              "      <td>0</td>\n",
              "      <td>0</td>\n",
              "      <td>0</td>\n",
              "    </tr>\n",
              "    <tr>\n",
              "      <th>6</th>\n",
              "      <td>1</td>\n",
              "      <td>0</td>\n",
              "      <td>0</td>\n",
              "      <td>0</td>\n",
              "    </tr>\n",
              "    <tr>\n",
              "      <th>7</th>\n",
              "      <td>1</td>\n",
              "      <td>0</td>\n",
              "      <td>0</td>\n",
              "      <td>0</td>\n",
              "    </tr>\n",
              "    <tr>\n",
              "      <th>8</th>\n",
              "      <td>0</td>\n",
              "      <td>0</td>\n",
              "      <td>1</td>\n",
              "      <td>0</td>\n",
              "    </tr>\n",
              "    <tr>\n",
              "      <th>9</th>\n",
              "      <td>1</td>\n",
              "      <td>0</td>\n",
              "      <td>0</td>\n",
              "      <td>0</td>\n",
              "    </tr>\n",
              "  </tbody>\n",
              "</table>\n",
              "</div>"
            ],
            "text/plain": [
              "   em  sec  ts  un\n",
              "0   0    0   0   1\n",
              "1   1    0   0   0\n",
              "2   1    0   0   0\n",
              "3   1    0   0   0\n",
              "4   0    0   0   1\n",
              "5   1    0   0   0\n",
              "6   1    0   0   0\n",
              "7   1    0   0   0\n",
              "8   0    0   1   0\n",
              "9   1    0   0   0"
            ]
          },
          "metadata": {
            "tags": []
          },
          "execution_count": 9
        }
      ]
    },
    {
      "cell_type": "markdown",
      "metadata": {
        "id": "Emp14qClTGz1"
      },
      "source": [
        "####Luego concatenamos ambas tablas"
      ]
    },
    {
      "cell_type": "code",
      "metadata": {
        "id": "JSzzp1tQTLtu",
        "colab": {
          "base_uri": "https://localhost:8080/",
          "height": 359
        },
        "outputId": "2aec719c-54d5-4df9-e5b0-9d04ef12fcd2"
      },
      "source": [
        "data2=pd.concat([data,NuevasVariables], axis=1)\n",
        "data2.head(10)"
      ],
      "execution_count": 10,
      "outputs": [
        {
          "output_type": "execute_result",
          "data": {
            "text/html": [
              "<div>\n",
              "<style scoped>\n",
              "    .dataframe tbody tr th:only-of-type {\n",
              "        vertical-align: middle;\n",
              "    }\n",
              "\n",
              "    .dataframe tbody tr th {\n",
              "        vertical-align: top;\n",
              "    }\n",
              "\n",
              "    .dataframe thead th {\n",
              "        text-align: right;\n",
              "    }\n",
              "</style>\n",
              "<table border=\"1\" class=\"dataframe\">\n",
              "  <thead>\n",
              "    <tr style=\"text-align: right;\">\n",
              "      <th></th>\n",
              "      <th>ID</th>\n",
              "      <th>Edad</th>\n",
              "      <th>Sexo</th>\n",
              "      <th>NivelEducacion</th>\n",
              "      <th>EstadoCivil</th>\n",
              "      <th>NivelSocEco</th>\n",
              "      <th>HorasLogeadas</th>\n",
              "      <th>HorasHabladas</th>\n",
              "      <th>ContactosEfectivosPromedio</th>\n",
              "      <th>RegistrosTerminados</th>\n",
              "      <th>ProdMayorUbral</th>\n",
              "      <th>em</th>\n",
              "      <th>sec</th>\n",
              "      <th>ts</th>\n",
              "      <th>un</th>\n",
              "    </tr>\n",
              "  </thead>\n",
              "  <tbody>\n",
              "    <tr>\n",
              "      <th>0</th>\n",
              "      <td>1</td>\n",
              "      <td>32</td>\n",
              "      <td>m</td>\n",
              "      <td>un</td>\n",
              "      <td>s</td>\n",
              "      <td>c3c4</td>\n",
              "      <td>151.152500</td>\n",
              "      <td>45.852500</td>\n",
              "      <td>192.250000</td>\n",
              "      <td>591.750000</td>\n",
              "      <td>si</td>\n",
              "      <td>0</td>\n",
              "      <td>0</td>\n",
              "      <td>0</td>\n",
              "      <td>1</td>\n",
              "    </tr>\n",
              "    <tr>\n",
              "      <th>1</th>\n",
              "      <td>2</td>\n",
              "      <td>24</td>\n",
              "      <td>m</td>\n",
              "      <td>em</td>\n",
              "      <td>s</td>\n",
              "      <td>c3c4</td>\n",
              "      <td>71.180000</td>\n",
              "      <td>24.760000</td>\n",
              "      <td>1.000000</td>\n",
              "      <td>501.000000</td>\n",
              "      <td>no</td>\n",
              "      <td>1</td>\n",
              "      <td>0</td>\n",
              "      <td>0</td>\n",
              "      <td>0</td>\n",
              "    </tr>\n",
              "    <tr>\n",
              "      <th>2</th>\n",
              "      <td>3</td>\n",
              "      <td>29</td>\n",
              "      <td>m</td>\n",
              "      <td>em</td>\n",
              "      <td>c</td>\n",
              "      <td>c3c4</td>\n",
              "      <td>120.560000</td>\n",
              "      <td>49.450000</td>\n",
              "      <td>156.000000</td>\n",
              "      <td>993.000000</td>\n",
              "      <td>si</td>\n",
              "      <td>1</td>\n",
              "      <td>0</td>\n",
              "      <td>0</td>\n",
              "      <td>0</td>\n",
              "    </tr>\n",
              "    <tr>\n",
              "      <th>3</th>\n",
              "      <td>4</td>\n",
              "      <td>48</td>\n",
              "      <td>f</td>\n",
              "      <td>em</td>\n",
              "      <td>c</td>\n",
              "      <td>e</td>\n",
              "      <td>90.850000</td>\n",
              "      <td>28.850000</td>\n",
              "      <td>442.000000</td>\n",
              "      <td>569.000000</td>\n",
              "      <td>no</td>\n",
              "      <td>1</td>\n",
              "      <td>0</td>\n",
              "      <td>0</td>\n",
              "      <td>0</td>\n",
              "    </tr>\n",
              "    <tr>\n",
              "      <th>4</th>\n",
              "      <td>5</td>\n",
              "      <td>25</td>\n",
              "      <td>m</td>\n",
              "      <td>un</td>\n",
              "      <td>s</td>\n",
              "      <td>c3c4</td>\n",
              "      <td>190.180000</td>\n",
              "      <td>41.160000</td>\n",
              "      <td>0.000000</td>\n",
              "      <td>0.000000</td>\n",
              "      <td>si</td>\n",
              "      <td>0</td>\n",
              "      <td>0</td>\n",
              "      <td>0</td>\n",
              "      <td>1</td>\n",
              "    </tr>\n",
              "    <tr>\n",
              "      <th>5</th>\n",
              "      <td>6</td>\n",
              "      <td>30</td>\n",
              "      <td>m</td>\n",
              "      <td>em</td>\n",
              "      <td>s</td>\n",
              "      <td>c3c4</td>\n",
              "      <td>164.458333</td>\n",
              "      <td>32.273333</td>\n",
              "      <td>186.666667</td>\n",
              "      <td>359.333333</td>\n",
              "      <td>si</td>\n",
              "      <td>1</td>\n",
              "      <td>0</td>\n",
              "      <td>0</td>\n",
              "      <td>0</td>\n",
              "    </tr>\n",
              "    <tr>\n",
              "      <th>6</th>\n",
              "      <td>7</td>\n",
              "      <td>43</td>\n",
              "      <td>f</td>\n",
              "      <td>em</td>\n",
              "      <td>c</td>\n",
              "      <td>e</td>\n",
              "      <td>120.038750</td>\n",
              "      <td>38.265000</td>\n",
              "      <td>105.500000</td>\n",
              "      <td>209.375000</td>\n",
              "      <td>si</td>\n",
              "      <td>1</td>\n",
              "      <td>0</td>\n",
              "      <td>0</td>\n",
              "      <td>0</td>\n",
              "    </tr>\n",
              "    <tr>\n",
              "      <th>7</th>\n",
              "      <td>8</td>\n",
              "      <td>31</td>\n",
              "      <td>m</td>\n",
              "      <td>em</td>\n",
              "      <td>c</td>\n",
              "      <td>c3c4</td>\n",
              "      <td>67.733333</td>\n",
              "      <td>23.303333</td>\n",
              "      <td>49.333333</td>\n",
              "      <td>63.000000</td>\n",
              "      <td>si</td>\n",
              "      <td>1</td>\n",
              "      <td>0</td>\n",
              "      <td>0</td>\n",
              "      <td>0</td>\n",
              "    </tr>\n",
              "    <tr>\n",
              "      <th>8</th>\n",
              "      <td>9</td>\n",
              "      <td>29</td>\n",
              "      <td>f</td>\n",
              "      <td>ts</td>\n",
              "      <td>s</td>\n",
              "      <td>c3c4</td>\n",
              "      <td>68.986667</td>\n",
              "      <td>27.370000</td>\n",
              "      <td>155.333333</td>\n",
              "      <td>418.333333</td>\n",
              "      <td>no</td>\n",
              "      <td>0</td>\n",
              "      <td>0</td>\n",
              "      <td>1</td>\n",
              "      <td>0</td>\n",
              "    </tr>\n",
              "    <tr>\n",
              "      <th>9</th>\n",
              "      <td>10</td>\n",
              "      <td>47</td>\n",
              "      <td>m</td>\n",
              "      <td>em</td>\n",
              "      <td>s</td>\n",
              "      <td>e</td>\n",
              "      <td>168.875000</td>\n",
              "      <td>80.841667</td>\n",
              "      <td>452.000000</td>\n",
              "      <td>915.833333</td>\n",
              "      <td>si</td>\n",
              "      <td>1</td>\n",
              "      <td>0</td>\n",
              "      <td>0</td>\n",
              "      <td>0</td>\n",
              "    </tr>\n",
              "  </tbody>\n",
              "</table>\n",
              "</div>"
            ],
            "text/plain": [
              "   ID  Edad Sexo NivelEducacion EstadoCivil  ... ProdMayorUbral  em  sec  ts  un\n",
              "0   1    32    m             un           s  ...             si   0    0   0   1\n",
              "1   2    24    m             em           s  ...             no   1    0   0   0\n",
              "2   3    29    m             em           c  ...             si   1    0   0   0\n",
              "3   4    48    f             em           c  ...             no   1    0   0   0\n",
              "4   5    25    m             un           s  ...             si   0    0   0   1\n",
              "5   6    30    m             em           s  ...             si   1    0   0   0\n",
              "6   7    43    f             em           c  ...             si   1    0   0   0\n",
              "7   8    31    m             em           c  ...             si   1    0   0   0\n",
              "8   9    29    f             ts           s  ...             no   0    0   1   0\n",
              "9  10    47    m             em           s  ...             si   1    0   0   0\n",
              "\n",
              "[10 rows x 15 columns]"
            ]
          },
          "metadata": {
            "tags": []
          },
          "execution_count": 10
        }
      ]
    }
  ]
}